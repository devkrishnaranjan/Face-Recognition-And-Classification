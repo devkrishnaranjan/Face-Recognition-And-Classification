{
 "cells": [
  {
   "cell_type": "code",
   "execution_count": 1,
   "metadata": {},
   "outputs": [],
   "source": [
    "import face_recognition\n",
    "import shutil\n",
    "from PIL import Image \n",
    "import os\n",
    "from skimage.io import imread_collection\n",
    "import glob\n",
    "import cv2"
   ]
  },
  {
   "cell_type": "markdown",
   "metadata": {},
   "source": [
    "# Reading Known Faces"
   ]
  },
  {
   "cell_type": "code",
   "execution_count": 22,
   "metadata": {},
   "outputs": [
    {
     "name": "stdout",
     "output_type": "stream",
     "text": [
      "['dev', 'modi']\n"
     ]
    }
   ],
   "source": [
    "# for all that image having jpg formate\n",
    "path_name = []\n",
    "names = []\n",
    "for file in glob.glob(r\"C:/Users/KIIT_Intern/Desktop/Practice/faces/known/*.jpg\"):\n",
    "    path_name.append(str(file).split(\" \")[-1])\n",
    "\n",
    "# for all that image having jpg formate\n",
    "for file in glob.glob(r\"C:/Users/KIIT_Intern/Desktop/Practice/faces/known/*.png\"):\n",
    "    path_name.append(str(file).split(\" \")[-1])\n",
    "\n",
    "for name in path_name:\n",
    "    names.append(name.split(\"\\\\\")[1].split(\".\")[0])\n",
    "print(names)"
   ]
  },
  {
   "cell_type": "markdown",
   "metadata": {},
   "source": [
    "# Reading Unkown Faces"
   ]
  },
  {
   "cell_type": "code",
   "execution_count": 23,
   "metadata": {},
   "outputs": [
    {
     "name": "stdout",
     "output_type": "stream",
     "text": [
      "2\n"
     ]
    },
    {
     "data": {
      "text/plain": [
       "['C:/Users/KIIT_Intern/Desktop/Practice/faces/Pics\\\\Narendra-Modi-and-Amit-Shah-696x392.jpg',\n",
       " 'C:/Users/KIIT_Intern/Desktop/Practice/faces/Pics\\\\_1474049090897.jpg']"
      ]
     },
     "execution_count": 23,
     "metadata": {},
     "output_type": "execute_result"
    }
   ],
   "source": [
    "# for all that image having jpg formate which is unknown\n",
    "path_name_unknown = []\n",
    "for file in glob.glob(r\"C:/Users/KIIT_Intern/Desktop/Practice/faces/Pics/*.jpg\"):\n",
    "    path_name_unknown.append(str(file).split(\" \")[-1])\n",
    "    \n",
    "# for all that image having png formate which is unknown\n",
    "for file in glob.glob(r\"C:/Users/KIIT_Intern/Desktop/Practice/faces/Pics/*.png\"):\n",
    "    path_name_unknown.append(str(file).split(\" \")[-1])\n",
    "print(len(path_name_unknown))\n",
    "path_name_unknown"
   ]
  },
  {
   "cell_type": "markdown",
   "metadata": {},
   "source": [
    "# Face Recognition"
   ]
  },
  {
   "cell_type": "code",
   "execution_count": 24,
   "metadata": {},
   "outputs": [
    {
     "name": "stdout",
     "output_type": "stream",
     "text": [
      "------ dev ------\n",
      "Narendra-Modi-and-Amit-Shah-696x392\n",
      "_1474049090897\n",
      "_1474049090897 is moved \n",
      "\n",
      "length is unknown list is  1\n",
      "------ modi ------\n",
      "Narendra-Modi-and-Amit-Shah-696x392\n",
      "Narendra-Modi-and-Amit-Shah-696x392 is moved \n",
      "\n",
      "length is unknown list is  0\n"
     ]
    }
   ],
   "source": [
    "for index in range(len(names)):\n",
    "    image = face_recognition.load_image_file(path_name[index])\n",
    "    image_encoding = face_recognition.face_encodings(image)[0]\n",
    "    \n",
    "    # to make directory of known face\n",
    "    dir_path = r\"C:\\\\Users\\\\KIIT_Intern\\\\Desktop\\\\Practice\\\\faces\\\\\"+names[index]\n",
    "    \n",
    "    # for saving faces of image\n",
    "    i = 1\n",
    "    face_locations = face_recognition.face_locations(image)\n",
    "    for faces in face_locations:\n",
    "\n",
    "        top,right,bottom,left = faces\n",
    "\n",
    "        face_image = image[top:bottom,left:right]\n",
    "        plt_image = Image.fromarray(face_image)\n",
    "        #saving images of each face\n",
    "        path = r\"C:\\Users\\KIIT_Intern\\Desktop\\Practice\\faces\\Identified\"\n",
    "        icon_name = path_name[index].split(\"\\\\\")[1].split(\".\")[0] +str(i)\n",
    "        i = i+1\n",
    "        G1_Name_Formatted = (\"%s\" % (icon_name)) + \".jpg\"\n",
    "        file_path = os.path.join( path, G1_Name_Formatted  ) \n",
    "        plt_image.save( file_path )\n",
    "    \n",
    "    \n",
    "    \n",
    "    print(\"------\",names[index],\"------\")\n",
    "    index2 = 0\n",
    "    while(index2 < len(path_name_unknown)):\n",
    "        print(path_name_unknown[index2].split(\"\\\\\")[1].split(\".\")[0])\n",
    "#         print(\"index is \",index,\"index2 is \",index2)\n",
    "        \n",
    "        unknown = face_recognition.load_image_file(path_name_unknown[index2])\n",
    "        if(len(face_recognition.face_encodings(unknown)) == 0):\n",
    "            index2 = index2 + 1\n",
    "            continue\n",
    "        unknown_encoding = face_recognition.face_encodings(unknown)[0]\n",
    "        \n",
    "        results = face_recognition.compare_faces([image_encoding], unknown_encoding)\n",
    "        if(results[0]==True):\n",
    "            source = path_name_unknown[index2]\n",
    "            \n",
    "            # making directory\n",
    "            if not os.path.exists(dir_path):\n",
    "                    os.makedirs(dir_path)\n",
    "            print(path_name_unknown[index2].split(\"\\\\\")[1].split(\".\")[0]+\" is moved \\n\")\n",
    "            shutil.move(source,dir_path)\n",
    "            path_name_unknown.remove(path_name_unknown[index2])\n",
    "            print(\"length is unknown list is \",len(path_name_unknown))\n",
    "        index2 = index2 + 1\n",
    "    \n",
    "        "
   ]
  },
  {
   "cell_type": "code",
   "execution_count": null,
   "metadata": {},
   "outputs": [],
   "source": []
  }
 ],
 "metadata": {
  "kernelspec": {
   "display_name": "Python 3",
   "language": "python",
   "name": "python3"
  },
  "language_info": {
   "codemirror_mode": {
    "name": "ipython",
    "version": 3
   },
   "file_extension": ".py",
   "mimetype": "text/x-python",
   "name": "python",
   "nbconvert_exporter": "python",
   "pygments_lexer": "ipython3",
   "version": "3.8.3"
  }
 },
 "nbformat": 4,
 "nbformat_minor": 4
}
